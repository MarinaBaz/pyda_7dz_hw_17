{
 "cells": [
  {
   "cell_type": "markdown",
   "metadata": {
    "colab_type": "text",
    "id": "9wqpiQR2AbtX"
   },
   "source": [
    "# Домашнее задание №3"
   ]
  },
  {
   "cell_type": "code",
   "execution_count": 1,
   "metadata": {
    "colab": {},
    "colab_type": "code",
    "id": "Zo_j9HCKCPgi"
   },
   "outputs": [],
   "source": [
    "import numpy as np\n",
    "from scipy.stats import t\n",
    "from scipy.stats import norm\n",
    "import matplotlib.pyplot as plt\n",
    "from scipy import stats\n",
    "import pandas as pd\n",
    "import io\n",
    "import requests\n",
    "import seaborn as sns\n",
    "\n",
    "%matplotlib inline"
   ]
  },
  {
   "cell_type": "markdown",
   "metadata": {
    "colab_type": "text",
    "id": "LrhPyaIACZsb"
   },
   "source": [
    "Таблица Indian liver pations records."
   ]
  },
  {
   "cell_type": "markdown",
   "metadata": {},
   "source": [
    "Загрузить датасет https://www.kaggle.com/uciml/indian-liver-patient-records. "
   ]
  },
  {
   "cell_type": "code",
   "execution_count": 2,
   "metadata": {
    "colab": {
     "base_uri": "https://localhost:8080/",
     "height": 224
    },
    "colab_type": "code",
    "id": "LQWcltRn-vZc",
    "outputId": "57d517f0-64f9-47c1-e092-b724da8029a1"
   },
   "outputs": [
    {
     "data": {
      "text/html": [
       "<div>\n",
       "<style scoped>\n",
       "    .dataframe tbody tr th:only-of-type {\n",
       "        vertical-align: middle;\n",
       "    }\n",
       "\n",
       "    .dataframe tbody tr th {\n",
       "        vertical-align: top;\n",
       "    }\n",
       "\n",
       "    .dataframe thead th {\n",
       "        text-align: right;\n",
       "    }\n",
       "</style>\n",
       "<table border=\"1\" class=\"dataframe\">\n",
       "  <thead>\n",
       "    <tr style=\"text-align: right;\">\n",
       "      <th></th>\n",
       "      <th>Age</th>\n",
       "      <th>Gender</th>\n",
       "      <th>Total_Bilirubin</th>\n",
       "      <th>Direct_Bilirubin</th>\n",
       "      <th>Alkaline_Phosphotase</th>\n",
       "      <th>Alamine_Aminotransferase</th>\n",
       "      <th>Aspartate_Aminotransferase</th>\n",
       "      <th>Total_Protiens</th>\n",
       "      <th>Albumin</th>\n",
       "      <th>Albumin_and_Globulin_Ratio</th>\n",
       "      <th>Dataset</th>\n",
       "    </tr>\n",
       "  </thead>\n",
       "  <tbody>\n",
       "    <tr>\n",
       "      <td>578</td>\n",
       "      <td>60</td>\n",
       "      <td>Male</td>\n",
       "      <td>0.5</td>\n",
       "      <td>0.1</td>\n",
       "      <td>500</td>\n",
       "      <td>20</td>\n",
       "      <td>34</td>\n",
       "      <td>5.9</td>\n",
       "      <td>1.6</td>\n",
       "      <td>0.37</td>\n",
       "      <td>2</td>\n",
       "    </tr>\n",
       "    <tr>\n",
       "      <td>579</td>\n",
       "      <td>40</td>\n",
       "      <td>Male</td>\n",
       "      <td>0.6</td>\n",
       "      <td>0.1</td>\n",
       "      <td>98</td>\n",
       "      <td>35</td>\n",
       "      <td>31</td>\n",
       "      <td>6.0</td>\n",
       "      <td>3.2</td>\n",
       "      <td>1.10</td>\n",
       "      <td>1</td>\n",
       "    </tr>\n",
       "    <tr>\n",
       "      <td>580</td>\n",
       "      <td>52</td>\n",
       "      <td>Male</td>\n",
       "      <td>0.8</td>\n",
       "      <td>0.2</td>\n",
       "      <td>245</td>\n",
       "      <td>48</td>\n",
       "      <td>49</td>\n",
       "      <td>6.4</td>\n",
       "      <td>3.2</td>\n",
       "      <td>1.00</td>\n",
       "      <td>1</td>\n",
       "    </tr>\n",
       "    <tr>\n",
       "      <td>581</td>\n",
       "      <td>31</td>\n",
       "      <td>Male</td>\n",
       "      <td>1.3</td>\n",
       "      <td>0.5</td>\n",
       "      <td>184</td>\n",
       "      <td>29</td>\n",
       "      <td>32</td>\n",
       "      <td>6.8</td>\n",
       "      <td>3.4</td>\n",
       "      <td>1.00</td>\n",
       "      <td>1</td>\n",
       "    </tr>\n",
       "    <tr>\n",
       "      <td>582</td>\n",
       "      <td>38</td>\n",
       "      <td>Male</td>\n",
       "      <td>1.0</td>\n",
       "      <td>0.3</td>\n",
       "      <td>216</td>\n",
       "      <td>21</td>\n",
       "      <td>24</td>\n",
       "      <td>7.3</td>\n",
       "      <td>4.4</td>\n",
       "      <td>1.50</td>\n",
       "      <td>2</td>\n",
       "    </tr>\n",
       "  </tbody>\n",
       "</table>\n",
       "</div>"
      ],
      "text/plain": [
       "     Age Gender  Total_Bilirubin  Direct_Bilirubin  Alkaline_Phosphotase  \\\n",
       "578   60   Male              0.5               0.1                   500   \n",
       "579   40   Male              0.6               0.1                    98   \n",
       "580   52   Male              0.8               0.2                   245   \n",
       "581   31   Male              1.3               0.5                   184   \n",
       "582   38   Male              1.0               0.3                   216   \n",
       "\n",
       "     Alamine_Aminotransferase  Aspartate_Aminotransferase  Total_Protiens  \\\n",
       "578                        20                          34             5.9   \n",
       "579                        35                          31             6.0   \n",
       "580                        48                          49             6.4   \n",
       "581                        29                          32             6.8   \n",
       "582                        21                          24             7.3   \n",
       "\n",
       "     Albumin  Albumin_and_Globulin_Ratio  Dataset  \n",
       "578      1.6                        0.37        2  \n",
       "579      3.2                        1.10        1  \n",
       "580      3.2                        1.00        1  \n",
       "581      3.4                        1.00        1  \n",
       "582      4.4                        1.50        2  "
      ]
     },
     "execution_count": 2,
     "metadata": {},
     "output_type": "execute_result"
    }
   ],
   "source": [
    "import ssl\n",
    "# следующая строчка подключает сертификат для защищенного соединения\n",
    "ssl._create_default_https_context = ssl._create_unverified_context\n",
    "\n",
    "url=\"http://yustiks.ru/dataset/indian_liver_patient.csv\"\n",
    "data_disease=pd.read_csv(url)\n",
    "data_disease.tail()"
   ]
  },
  {
   "cell_type": "markdown",
   "metadata": {
    "colab_type": "text",
    "id": "XyNNmtvIDDy3"
   },
   "source": [
    "Columns:\n",
    "\n",
    "*  Age of the patient\n",
    "*  Gender of the patient\n",
    "*  Total Bilirubin\n",
    "*  Direct Bilirubin\n",
    "*  Alkaline Phosphotase\n",
    "*  Alamine Aminotransferase\n",
    "*  Aspartate Aminotransferase\n",
    "*  Total Protiens\n",
    "*  Albumin\n",
    "*  Albumin and Globulin Ratio\n",
    "*  Dataset: field used to split the data into two sets (patient with liver disease, or no disease)\n"
   ]
  },
  {
   "cell_type": "markdown",
   "metadata": {},
   "source": [
    "- **Age** возраст пациента\n",
    "- **Gender** Пол пациента\n",
    "- **Total Bilirubin** Общий билирубин\n",
    "- **Direct Bilirubin** Прямой билирубин\n",
    "- **Alkaline Phosphotase** Щелочная фосфотаза\n",
    "- **Alamine Aminotransferase** Аламин аминотрансфераза\n",
    "- **Aspartate Aminotransferase** Аспартат аминотрансфераза\n",
    "- **Total Protiens** Всего протеина\n",
    "- **Albumin** Альбумин\n",
    "- **Albumin and Globulin Ratio** Соотношение альбумина и глобулина\n",
    "- **Dataset:** Набор данных: поле, используемое для разделения данных на два набора (1- пациент с заболеванием печени или 2- без заболевания)"
   ]
  },
  {
   "cell_type": "markdown",
   "metadata": {},
   "source": [
    "Dataset: пациент с болезнью печени - 1,\n",
    "         пациент не болеет - 2"
   ]
  },
  {
   "cell_type": "code",
   "execution_count": 7,
   "metadata": {},
   "outputs": [
    {
     "name": "stdout",
     "output_type": "stream",
     "text": [
      "<class 'pandas.core.frame.DataFrame'>\n",
      "RangeIndex: 583 entries, 0 to 582\n",
      "Data columns (total 11 columns):\n",
      "Age                           583 non-null int64\n",
      "Gender                        583 non-null object\n",
      "Total_Bilirubin               583 non-null float64\n",
      "Direct_Bilirubin              583 non-null float64\n",
      "Alkaline_Phosphotase          583 non-null int64\n",
      "Alamine_Aminotransferase      583 non-null int64\n",
      "Aspartate_Aminotransferase    583 non-null int64\n",
      "Total_Protiens                583 non-null float64\n",
      "Albumin                       583 non-null float64\n",
      "Albumin_and_Globulin_Ratio    579 non-null float64\n",
      "Dataset                       583 non-null int64\n",
      "dtypes: float64(5), int64(5), object(1)\n",
      "memory usage: 50.2+ KB\n"
     ]
    }
   ],
   "source": [
    "data_disease.info()"
   ]
  },
  {
   "cell_type": "markdown",
   "metadata": {},
   "source": [
    "общее кол-во записей - 583, в столбце Albumin_and_Globulin_Ratio есть нулевые значения, заполнено только 579 строк "
   ]
  },
  {
   "cell_type": "markdown",
   "metadata": {
    "colab_type": "text",
    "id": "3v0ZWcBVSOXK"
   },
   "source": [
    "**1. Построить одномерную линейную регрессию Direct_Bilirubin и Total_Bilirubin, предварительно разделив данные на 80% тренировочных и 20% тестовых. Построить график: исходных тренировочных и тестовых данных, а также прямой линейной регрессии.**"
   ]
  },
  {
   "cell_type": "code",
   "execution_count": 21,
   "metadata": {},
   "outputs": [
    {
     "data": {
      "image/png": "[encoded data removed]",
      "text/plain": [
       "<Figure size 432x288 with 1 Axes>"
      ]
     },
     "metadata": {
      "needs_background": "light"
     },
     "output_type": "display_data"
    }
   ],
   "source": [
    "plt.scatter(data_disease['Direct_Bilirubin'], data_disease['Total_Bilirubin'])\n",
    "\n",
    "# параметр fit_reg - строит линию регрессии для двух выборок\n",
    "sns.regplot(x=data_disease['Direct_Bilirubin'], y=data_disease['Total_Bilirubin'], data=data_disease, fit_reg=True)\n",
    "\n",
    "plt.title('Корреляционная зависимость')\n",
    "plt.show()"
   ]
  },
  {
   "cell_type": "markdown",
   "metadata": {},
   "source": [
    "между атрибутами Direct_Bilirubin и Total_Bilirubin наблюдается линейная связь, корреляция прямая"
   ]
  },
  {
   "cell_type": "code",
   "execution_count": 3,
   "metadata": {},
   "outputs": [],
   "source": [
    "direct_bilirubin = data_disease['Direct_Bilirubin']\n",
    "total_bilirubin = data_disease['Total_Bilirubin']"
   ]
  },
  {
   "cell_type": "code",
   "execution_count": 4,
   "metadata": {},
   "outputs": [],
   "source": [
    "#Для sklearn сделаем reshape(-1,1) и преобразуем Series данные в numpy array\n",
    "direct_bilirubin = np.array(direct_bilirubin).reshape(-1,1)\n",
    "total_bilirubin = np.array(total_bilirubin).reshape(-1,1)"
   ]
  },
  {
   "cell_type": "code",
   "execution_count": 5,
   "metadata": {},
   "outputs": [],
   "source": [
    "from sklearn.linear_model import LinearRegression"
   ]
  },
  {
   "cell_type": "code",
   "execution_count": 8,
   "metadata": {},
   "outputs": [],
   "source": [
    "#Линейная регрессия строится на том основании, что две переменные имеют линейную зависимость.\n",
    "model = LinearRegression()"
   ]
  },
  {
   "cell_type": "code",
   "execution_count": 6,
   "metadata": {},
   "outputs": [],
   "source": [
    "from sklearn.model_selection import train_test_split\n",
    "\n",
    "#Разделим на 80% тренировочных и на 20% тестовых\n",
    "\n",
    "# x = total_bilirubin - известна\n",
    "# y = direct_bilirubin - предсказываем\n",
    "X_train, X_test, y_train, y_test = train_test_split(\n",
    "    total_bilirubin,\n",
    "    direct_bilirubin,\n",
    "    test_size = 0.2\n",
    ")"
   ]
  },
  {
   "cell_type": "code",
   "execution_count": 9,
   "metadata": {},
   "outputs": [
    {
     "data": {
      "text/plain": [
       "LinearRegression(copy_X=True, fit_intercept=True, n_jobs=None, normalize=False)"
      ]
     },
     "execution_count": 9,
     "metadata": {},
     "output_type": "execute_result"
    }
   ],
   "source": [
    "#Обучим модель с помощью fit() метода\n",
    "model.fit(X_train, y_train)"
   ]
  },
  {
   "cell_type": "code",
   "execution_count": 10,
   "metadata": {},
   "outputs": [],
   "source": [
    "#Посмотрим предсказания модели на тестируемых данных\n",
    "predicted_y = model.predict(X_test)"
   ]
  },
  {
   "cell_type": "code",
   "execution_count": 11,
   "metadata": {},
   "outputs": [
    {
     "data": {
      "text/plain": [
       "0.946029959452177"
      ]
     },
     "execution_count": 11,
     "metadata": {},
     "output_type": "execute_result"
    }
   ],
   "source": [
    "#Посчитаем ошибку модели\n",
    "#model.score - подсчет среднеквадратичной ошибки\n",
    "model.score(X_test, y_test)"
   ]
  },
  {
   "cell_type": "markdown",
   "metadata": {},
   "source": [
    "94% точности на тестовых данных"
   ]
  },
  {
   "cell_type": "code",
   "execution_count": 25,
   "metadata": {},
   "outputs": [
    {
     "data": {
      "image/png": "[encoded data removed]",
      "text/plain": [
       "<Figure size 432x288 with 1 Axes>"
      ]
     },
     "metadata": {
      "needs_background": "light"
     },
     "output_type": "display_data"
    }
   ],
   "source": [
    "#Построим график линейной регресии\n",
    "\n",
    "plt.xlabel('total_bilirubin')\n",
    "plt.ylabel('direct_bilirubin')\n",
    "plt.title('Линейная регрессия от одной переменной')\n",
    "# Построим прямую для регрессии\n",
    "# Создадим 100 точек для предсказаний\n",
    "x = np.linspace(0, 30, 100)\n",
    "# Посчитаем предсказанные значения\n",
    "# y = kx + b\n",
    "# k = model.coef_\n",
    "# b = model.intercept_\n",
    "y = model.coef_*x + model.intercept_\n",
    "y = np.transpose(y)\n",
    "plt.plot(x,y)\n",
    "plt.plot(X_train, y_train, 'r.')\n",
    "plt.plot(X_test, y_test, 'go')\n",
    "plt.xlim(0,30)\n",
    "plt.ylim(-5,30)\n",
    "plt.legend(['Прямая линейной регрессии', 'Тренировочные данные', 'Тестовые данные'])\n",
    "plt.show()"
   ]
  },
  {
   "cell_type": "markdown",
   "metadata": {},
   "source": [
    "В данном случае получается прямая зависимость двух переменных Direct_Bilirubin и Total_Bilirubin:\n",
    "- чем больше общий билирубин Total_Bilirubin, тем больше прямой билирубин Direct_Bilirubin"
   ]
  },
  {
   "cell_type": "code",
   "execution_count": 27,
   "metadata": {},
   "outputs": [
    {
     "data": {
      "image/png": "[encoded data removed]",
      "text/plain": [
       "<Figure size 432x432 with 3 Axes>"
      ]
     },
     "metadata": {},
     "output_type": "display_data"
    }
   ],
   "source": [
    "#Jointplot\n",
    "#'Совместное распределение по двум переменным Total_Bilirubin и Direct_Bilirubin\n",
    "direct_bilirubin = data_disease['Direct_Bilirubin']\n",
    "total_bilirubin = data_disease['Total_Bilirubin']\n",
    "\n",
    "sns.set(style=\"white\", color_codes=True)\n",
    "g = sns.jointplot(x=direct_bilirubin, y=total_bilirubin, data=data_disease, kind='reg')\n",
    "\n",
    "plt.show()"
   ]
  },
  {
   "cell_type": "markdown",
   "metadata": {
    "colab_type": "text",
    "id": "ZWc_9uF3PQIo"
   },
   "source": [
    "**2. Посчитать квартили для всех колонок.**"
   ]
  },
  {
   "cell_type": "code",
   "execution_count": 4,
   "metadata": {},
   "outputs": [
    {
     "data": {
      "text/html": [
       "<div>\n",
       "<style scoped>\n",
       "    .dataframe tbody tr th:only-of-type {\n",
       "        vertical-align: middle;\n",
       "    }\n",
       "\n",
       "    .dataframe tbody tr th {\n",
       "        vertical-align: top;\n",
       "    }\n",
       "\n",
       "    .dataframe thead th {\n",
       "        text-align: right;\n",
       "    }\n",
       "</style>\n",
       "<table border=\"1\" class=\"dataframe\">\n",
       "  <thead>\n",
       "    <tr style=\"text-align: right;\">\n",
       "      <th></th>\n",
       "      <th>Age</th>\n",
       "      <th>Total_Bilirubin</th>\n",
       "      <th>Direct_Bilirubin</th>\n",
       "      <th>Alkaline_Phosphotase</th>\n",
       "      <th>Alamine_Aminotransferase</th>\n",
       "      <th>Aspartate_Aminotransferase</th>\n",
       "      <th>Total_Protiens</th>\n",
       "      <th>Albumin</th>\n",
       "      <th>Albumin_and_Globulin_Ratio</th>\n",
       "      <th>Dataset</th>\n",
       "    </tr>\n",
       "  </thead>\n",
       "  <tbody>\n",
       "    <tr>\n",
       "      <td>count</td>\n",
       "      <td>583.000000</td>\n",
       "      <td>583.000000</td>\n",
       "      <td>583.000000</td>\n",
       "      <td>583.000000</td>\n",
       "      <td>583.000000</td>\n",
       "      <td>583.000000</td>\n",
       "      <td>583.000000</td>\n",
       "      <td>583.000000</td>\n",
       "      <td>579.000000</td>\n",
       "      <td>583.000000</td>\n",
       "    </tr>\n",
       "    <tr>\n",
       "      <td>mean</td>\n",
       "      <td>44.746141</td>\n",
       "      <td>3.298799</td>\n",
       "      <td>1.486106</td>\n",
       "      <td>290.576329</td>\n",
       "      <td>80.713551</td>\n",
       "      <td>109.910806</td>\n",
       "      <td>6.483190</td>\n",
       "      <td>3.141852</td>\n",
       "      <td>0.947064</td>\n",
       "      <td>1.286449</td>\n",
       "    </tr>\n",
       "    <tr>\n",
       "      <td>std</td>\n",
       "      <td>16.189833</td>\n",
       "      <td>6.209522</td>\n",
       "      <td>2.808498</td>\n",
       "      <td>242.937989</td>\n",
       "      <td>182.620356</td>\n",
       "      <td>288.918529</td>\n",
       "      <td>1.085451</td>\n",
       "      <td>0.795519</td>\n",
       "      <td>0.319592</td>\n",
       "      <td>0.452490</td>\n",
       "    </tr>\n",
       "    <tr>\n",
       "      <td>min</td>\n",
       "      <td>4.000000</td>\n",
       "      <td>0.400000</td>\n",
       "      <td>0.100000</td>\n",
       "      <td>63.000000</td>\n",
       "      <td>10.000000</td>\n",
       "      <td>10.000000</td>\n",
       "      <td>2.700000</td>\n",
       "      <td>0.900000</td>\n",
       "      <td>0.300000</td>\n",
       "      <td>1.000000</td>\n",
       "    </tr>\n",
       "    <tr>\n",
       "      <td>25%</td>\n",
       "      <td>33.000000</td>\n",
       "      <td>0.800000</td>\n",
       "      <td>0.200000</td>\n",
       "      <td>175.500000</td>\n",
       "      <td>23.000000</td>\n",
       "      <td>25.000000</td>\n",
       "      <td>5.800000</td>\n",
       "      <td>2.600000</td>\n",
       "      <td>0.700000</td>\n",
       "      <td>1.000000</td>\n",
       "    </tr>\n",
       "    <tr>\n",
       "      <td>50%</td>\n",
       "      <td>45.000000</td>\n",
       "      <td>1.000000</td>\n",
       "      <td>0.300000</td>\n",
       "      <td>208.000000</td>\n",
       "      <td>35.000000</td>\n",
       "      <td>42.000000</td>\n",
       "      <td>6.600000</td>\n",
       "      <td>3.100000</td>\n",
       "      <td>0.930000</td>\n",
       "      <td>1.000000</td>\n",
       "    </tr>\n",
       "    <tr>\n",
       "      <td>75%</td>\n",
       "      <td>58.000000</td>\n",
       "      <td>2.600000</td>\n",
       "      <td>1.300000</td>\n",
       "      <td>298.000000</td>\n",
       "      <td>60.500000</td>\n",
       "      <td>87.000000</td>\n",
       "      <td>7.200000</td>\n",
       "      <td>3.800000</td>\n",
       "      <td>1.100000</td>\n",
       "      <td>2.000000</td>\n",
       "    </tr>\n",
       "    <tr>\n",
       "      <td>max</td>\n",
       "      <td>90.000000</td>\n",
       "      <td>75.000000</td>\n",
       "      <td>19.700000</td>\n",
       "      <td>2110.000000</td>\n",
       "      <td>2000.000000</td>\n",
       "      <td>4929.000000</td>\n",
       "      <td>9.600000</td>\n",
       "      <td>5.500000</td>\n",
       "      <td>2.800000</td>\n",
       "      <td>2.000000</td>\n",
       "    </tr>\n",
       "  </tbody>\n",
       "</table>\n",
       "</div>"
      ],
      "text/plain": [
       "              Age  Total_Bilirubin  Direct_Bilirubin  Alkaline_Phosphotase  \\\n",
       "count  583.000000       583.000000        583.000000            583.000000   \n",
       "mean    44.746141         3.298799          1.486106            290.576329   \n",
       "std     16.189833         6.209522          2.808498            242.937989   \n",
       "min      4.000000         0.400000          0.100000             63.000000   \n",
       "25%     33.000000         0.800000          0.200000            175.500000   \n",
       "50%     45.000000         1.000000          0.300000            208.000000   \n",
       "75%     58.000000         2.600000          1.300000            298.000000   \n",
       "max     90.000000        75.000000         19.700000           2110.000000   \n",
       "\n",
       "       Alamine_Aminotransferase  Aspartate_Aminotransferase  Total_Protiens  \\\n",
       "count                583.000000                  583.000000      583.000000   \n",
       "mean                  80.713551                  109.910806        6.483190   \n",
       "std                  182.620356                  288.918529        1.085451   \n",
       "min                   10.000000                   10.000000        2.700000   \n",
       "25%                   23.000000                   25.000000        5.800000   \n",
       "50%                   35.000000                   42.000000        6.600000   \n",
       "75%                   60.500000                   87.000000        7.200000   \n",
       "max                 2000.000000                 4929.000000        9.600000   \n",
       "\n",
       "          Albumin  Albumin_and_Globulin_Ratio     Dataset  \n",
       "count  583.000000                  579.000000  583.000000  \n",
       "mean     3.141852                    0.947064    1.286449  \n",
       "std      0.795519                    0.319592    0.452490  \n",
       "min      0.900000                    0.300000    1.000000  \n",
       "25%      2.600000                    0.700000    1.000000  \n",
       "50%      3.100000                    0.930000    1.000000  \n",
       "75%      3.800000                    1.100000    2.000000  \n",
       "max      5.500000                    2.800000    2.000000  "
      ]
     },
     "execution_count": 4,
     "metadata": {},
     "output_type": "execute_result"
    }
   ],
   "source": [
    "#основные статистики\n",
    "data_disease.describe()"
   ]
  },
  {
   "cell_type": "code",
   "execution_count": 6,
   "metadata": {},
   "outputs": [
    {
     "data": {
      "text/html": [
       "<div>\n",
       "<style scoped>\n",
       "    .dataframe tbody tr th:only-of-type {\n",
       "        vertical-align: middle;\n",
       "    }\n",
       "\n",
       "    .dataframe tbody tr th {\n",
       "        vertical-align: top;\n",
       "    }\n",
       "\n",
       "    .dataframe thead th {\n",
       "        text-align: right;\n",
       "    }\n",
       "</style>\n",
       "<table border=\"1\" class=\"dataframe\">\n",
       "  <thead>\n",
       "    <tr style=\"text-align: right;\">\n",
       "      <th></th>\n",
       "      <th>Age</th>\n",
       "      <th>Total_Bilirubin</th>\n",
       "      <th>Direct_Bilirubin</th>\n",
       "      <th>Alkaline_Phosphotase</th>\n",
       "      <th>Alamine_Aminotransferase</th>\n",
       "      <th>Aspartate_Aminotransferase</th>\n",
       "      <th>Total_Protiens</th>\n",
       "      <th>Albumin</th>\n",
       "      <th>Albumin_and_Globulin_Ratio</th>\n",
       "      <th>Dataset</th>\n",
       "    </tr>\n",
       "  </thead>\n",
       "  <tbody>\n",
       "    <tr>\n",
       "      <td>0.25</td>\n",
       "      <td>33.0</td>\n",
       "      <td>0.8</td>\n",
       "      <td>0.2</td>\n",
       "      <td>175.5</td>\n",
       "      <td>23.0</td>\n",
       "      <td>25.0</td>\n",
       "      <td>5.8</td>\n",
       "      <td>2.6</td>\n",
       "      <td>0.70</td>\n",
       "      <td>1.0</td>\n",
       "    </tr>\n",
       "    <tr>\n",
       "      <td>0.50</td>\n",
       "      <td>45.0</td>\n",
       "      <td>1.0</td>\n",
       "      <td>0.3</td>\n",
       "      <td>208.0</td>\n",
       "      <td>35.0</td>\n",
       "      <td>42.0</td>\n",
       "      <td>6.6</td>\n",
       "      <td>3.1</td>\n",
       "      <td>0.93</td>\n",
       "      <td>1.0</td>\n",
       "    </tr>\n",
       "    <tr>\n",
       "      <td>0.75</td>\n",
       "      <td>58.0</td>\n",
       "      <td>2.6</td>\n",
       "      <td>1.3</td>\n",
       "      <td>298.0</td>\n",
       "      <td>60.5</td>\n",
       "      <td>87.0</td>\n",
       "      <td>7.2</td>\n",
       "      <td>3.8</td>\n",
       "      <td>1.10</td>\n",
       "      <td>2.0</td>\n",
       "    </tr>\n",
       "  </tbody>\n",
       "</table>\n",
       "</div>"
      ],
      "text/plain": [
       "       Age  Total_Bilirubin  Direct_Bilirubin  Alkaline_Phosphotase  \\\n",
       "0.25  33.0              0.8               0.2                 175.5   \n",
       "0.50  45.0              1.0               0.3                 208.0   \n",
       "0.75  58.0              2.6               1.3                 298.0   \n",
       "\n",
       "      Alamine_Aminotransferase  Aspartate_Aminotransferase  Total_Protiens  \\\n",
       "0.25                      23.0                        25.0             5.8   \n",
       "0.50                      35.0                        42.0             6.6   \n",
       "0.75                      60.5                        87.0             7.2   \n",
       "\n",
       "      Albumin  Albumin_and_Globulin_Ratio  Dataset  \n",
       "0.25      2.6                        0.70      1.0  \n",
       "0.50      3.1                        0.93      1.0  \n",
       "0.75      3.8                        1.10      2.0  "
      ]
     },
     "execution_count": 6,
     "metadata": {},
     "output_type": "execute_result"
    }
   ],
   "source": [
    "#квартили распределения\n",
    "data_disease.quantile([.25, .50, .75], axis = 0) "
   ]
  },
  {
   "cell_type": "code",
   "execution_count": 18,
   "metadata": {},
   "outputs": [
    {
     "name": "stdout",
     "output_type": "stream",
     "text": [
      "Age - возраст\n",
      "Q1 нижняя квартиль:  33.0\n",
      "Q2 медиана:  45.0\n",
      "Q3 верхняя квартиль:  58.0\n",
      "IQR межквартильный размах:  25.0\n"
     ]
    }
   ],
   "source": [
    "print('Age - возраст')\n",
    "print(\"Q1 нижняя квартиль: \", np.quantile(data_disease.Age, .25))\n",
    "print(\"Q2 медиана: \", np.quantile(data_disease.Age, .50)) \n",
    "print(\"Q3 верхняя квартиль: \", np.quantile(data_disease.Age, .75)) \n",
    "print(\"IQR межквартильный размах: \", float(np.quantile(data_disease.Age, .75)) - float(np.quantile(data_disease.Age, .25))) "
   ]
  },
  {
   "cell_type": "markdown",
   "metadata": {},
   "source": [
    "атрибут 'Gender - пол' величина категориальная, квартили не вычисляются"
   ]
  },
  {
   "cell_type": "code",
   "execution_count": 19,
   "metadata": {},
   "outputs": [
    {
     "name": "stdout",
     "output_type": "stream",
     "text": [
      "Total_Bilirubin - общий билирубин\n",
      "Q1 нижняя квартиль:   0.8\n",
      "Q2 медиана:  1.0\n",
      "Q3 верхняя квартиль:  2.6\n",
      "IQR межквартильный размах:  1.8\n"
     ]
    }
   ],
   "source": [
    "print('Total_Bilirubin - общий билирубин')\n",
    "print(\"Q1 нижняя квартиль:  \", np.quantile(data_disease.Total_Bilirubin, .25))\n",
    "print(\"Q2 медиана: \", np.quantile(data_disease.Total_Bilirubin, .50)) \n",
    "print(\"Q3 верхняя квартиль: \", np.quantile(data_disease.Total_Bilirubin, .75))\n",
    "print(\"IQR межквартильный размах: \", float(np.quantile(data_disease.Total_Bilirubin, .75)) - float(np.quantile(data_disease.Total_Bilirubin, .25))) "
   ]
  },
  {
   "cell_type": "code",
   "execution_count": 20,
   "metadata": {},
   "outputs": [
    {
     "name": "stdout",
     "output_type": "stream",
     "text": [
      "Direct Bilirubin - прямой билирубин\n",
      "Q1 нижняя квартиль:   0.2\n",
      "Q2 медиана:  0.3\n",
      "Q3 верхняя квартиль:  1.3\n",
      "IQR межквартильный размах:  1.1\n"
     ]
    }
   ],
   "source": [
    "print('Direct Bilirubin - прямой билирубин')\n",
    "print(\"Q1 нижняя квартиль:  \", np.quantile(data_disease.Direct_Bilirubin, .25))\n",
    "print(\"Q2 медиана: \", np.quantile(data_disease.Direct_Bilirubin, .50)) \n",
    "print(\"Q3 верхняя квартиль: \", np.quantile(data_disease.Direct_Bilirubin, .75))\n",
    "print(\"IQR межквартильный размах: \", float(np.quantile(data_disease.Direct_Bilirubin, .75)) - float(np.quantile(data_disease.Direct_Bilirubin, .25))) "
   ]
  },
  {
   "cell_type": "code",
   "execution_count": 22,
   "metadata": {},
   "outputs": [
    {
     "name": "stdout",
     "output_type": "stream",
     "text": [
      "Alkaline_Phosphotase - щелочная фосфотаза\n",
      "Q1 нижняя квартиль:   175.5\n",
      "Q2 медиана:  208.0\n",
      "Q3 верхняя квартиль:  298.0\n",
      "IQR межквартильный размах:  122.5\n"
     ]
    }
   ],
   "source": [
    "print('Alkaline_Phosphotase - щелочная фосфотаза')\n",
    "print(\"Q1 нижняя квартиль:  \", np.quantile(data_disease.Alkaline_Phosphotase, .25))\n",
    "print(\"Q2 медиана: \", np.quantile(data_disease.Alkaline_Phosphotase, .50)) \n",
    "print(\"Q3 верхняя квартиль: \", np.quantile(data_disease.Alkaline_Phosphotase, .75))\n",
    "print(\"IQR межквартильный размах: \", float(np.quantile(data_disease.Alkaline_Phosphotase, .75)) - float(np.quantile(data_disease.Alkaline_Phosphotase, .25))) "
   ]
  },
  {
   "cell_type": "code",
   "execution_count": 4,
   "metadata": {},
   "outputs": [
    {
     "name": "stdout",
     "output_type": "stream",
     "text": [
      "Alamine_Aminotransferase - Аламин аминотрансфераза\n",
      "Q1 нижняя квартиль:   23.0\n",
      "Q2 медиана:  35.0\n",
      "Q3 верхняя квартиль:  60.5\n",
      "IQR межквартильный размах:  37.5\n"
     ]
    }
   ],
   "source": [
    "print('Alamine_Aminotransferase - Аламин аминотрансфераза')\n",
    "print(\"Q1 нижняя квартиль:  \", np.quantile(data_disease.Alamine_Aminotransferase, .25))\n",
    "print(\"Q2 медиана: \", np.quantile(data_disease.Alamine_Aminotransferase, .50)) \n",
    "print(\"Q3 верхняя квартиль: \", np.quantile(data_disease.Alamine_Aminotransferase, .75))\n",
    "print(\"IQR межквартильный размах: \", float(np.quantile(data_disease.Alamine_Aminotransferase, .75)) - float(np.quantile(data_disease.Alamine_Aminotransferase, .25))) "
   ]
  },
  {
   "cell_type": "code",
   "execution_count": 5,
   "metadata": {},
   "outputs": [
    {
     "name": "stdout",
     "output_type": "stream",
     "text": [
      "Aspartate_Aminotransferase - Аспартат аминотрансфераза\n",
      "Q1 нижняя квартиль:   25.0\n",
      "Q2 медиана:  42.0\n",
      "Q3 верхняя квартиль:  87.0\n",
      "IQR межквартильный размах:  62.0\n"
     ]
    }
   ],
   "source": [
    "print('Aspartate_Aminotransferase - Аспартат аминотрансфераза')\n",
    "print(\"Q1 нижняя квартиль:  \", np.quantile(data_disease.Aspartate_Aminotransferase, .25))\n",
    "print(\"Q2 медиана: \", np.quantile(data_disease.Aspartate_Aminotransferase, .50)) \n",
    "print(\"Q3 верхняя квартиль: \", np.quantile(data_disease.Aspartate_Aminotransferase, .75))\n",
    "print(\"IQR межквартильный размах: \", float(np.quantile(data_disease.Aspartate_Aminotransferase, .75)) - float(np.quantile(data_disease.Aspartate_Aminotransferase, .25))) "
   ]
  },
  {
   "cell_type": "code",
   "execution_count": 6,
   "metadata": {},
   "outputs": [
    {
     "name": "stdout",
     "output_type": "stream",
     "text": [
      "Total_Protiens - Всего протеина\n",
      "Q1 нижняя квартиль:   5.8\n",
      "Q2 медиана:  6.6\n",
      "Q3 верхняя квартиль:  7.2\n",
      "IQR межквартильный размах:  1.4000000000000004\n"
     ]
    }
   ],
   "source": [
    "print('Total_Protiens - Всего протеина')\n",
    "print(\"Q1 нижняя квартиль:  \", np.quantile(data_disease.Total_Protiens, .25))\n",
    "print(\"Q2 медиана: \", np.quantile(data_disease.Total_Protiens, .50)) \n",
    "print(\"Q3 верхняя квартиль: \", np.quantile(data_disease.Total_Protiens, .75))\n",
    "print(\"IQR межквартильный размах: \", float(np.quantile(data_disease.Total_Protiens, .75)) - float(np.quantile(data_disease.Total_Protiens, .25))) "
   ]
  },
  {
   "cell_type": "code",
   "execution_count": 7,
   "metadata": {},
   "outputs": [
    {
     "name": "stdout",
     "output_type": "stream",
     "text": [
      "Albumin - Альбумин\n",
      "Q1 нижняя квартиль:   2.6\n",
      "Q2 медиана:  3.1\n",
      "Q3 верхняя квартиль:  3.8\n",
      "IQR межквартильный размах:  1.1999999999999997\n"
     ]
    }
   ],
   "source": [
    "print('Albumin - Альбумин')\n",
    "print(\"Q1 нижняя квартиль:  \", np.quantile(data_disease.Albumin, .25))\n",
    "print(\"Q2 медиана: \", np.quantile(data_disease.Albumin, .50)) \n",
    "print(\"Q3 верхняя квартиль: \", np.quantile(data_disease.Albumin, .75))\n",
    "print(\"IQR межквартильный размах: \", float(np.quantile(data_disease.Albumin, .75)) - float(np.quantile(data_disease.Albumin, .25))) "
   ]
  },
  {
   "cell_type": "code",
   "execution_count": 12,
   "metadata": {},
   "outputs": [
    {
     "name": "stdout",
     "output_type": "stream",
     "text": [
      "Albumin_and_Globulin_Ratio - Соотношение альбумина и глобулина\n",
      "Q1 нижняя квартиль:   nan\n",
      "Q2 медиана:  nan\n",
      "Q3 верхняя квартиль:  nan\n"
     ]
    }
   ],
   "source": [
    "print('Albumin_and_Globulin_Ratio - Соотношение альбумина и глобулина')\n",
    "print(\"Q1 нижняя квартиль:  \", np.quantile(data_disease.Albumin_and_Globulin_Ratio, .25))\n",
    "print(\"Q2 медиана: \", np.quantile(data_disease.Albumin_and_Globulin_Ratio, .50)) \n",
    "print(\"Q3 верхняя квартиль: \", np.quantile(data_disease.Albumin_and_Globulin_Ratio, .75))\n",
    "print(\"IQR межквартильный размах: \", float(np.quantile(data_disease.Albumin_and_Globulin_Ratio, .75)) - float(np.quantile(data_disease.Albumin_and_Globulin_Ratio, .25))) "
   ]
  },
  {
   "cell_type": "markdown",
   "metadata": {},
   "source": [
    "заполним пустые ячейки у атрибута 'Albumin_and_Globulin_Ratio' средним значением"
   ]
  },
  {
   "cell_type": "code",
   "execution_count": 14,
   "metadata": {},
   "outputs": [],
   "source": [
    "data_disease['Albumin_and_Globulin_Ratio'].fillna(data_disease['Albumin_and_Globulin_Ratio'].mean(), inplace=True)"
   ]
  },
  {
   "cell_type": "code",
   "execution_count": 15,
   "metadata": {},
   "outputs": [
    {
     "name": "stdout",
     "output_type": "stream",
     "text": [
      "Albumin_and_Globulin_Ratio - Соотношение альбумина и глобулина\n",
      "Q1 нижняя квартиль:   0.7\n",
      "Q2 медиана:  0.9470639032815201\n",
      "Q3 верхняя квартиль:  1.1\n",
      "IQR межквартильный размах:  0.40000000000000013\n"
     ]
    }
   ],
   "source": [
    "print('Albumin_and_Globulin_Ratio - Соотношение альбумина и глобулина')\n",
    "print(\"Q1 нижняя квартиль:  \", np.quantile(data_disease.Albumin_and_Globulin_Ratio, .25))\n",
    "print(\"Q2 медиана: \", np.quantile(data_disease.Albumin_and_Globulin_Ratio, .50)) \n",
    "print(\"Q3 верхняя квартиль: \", np.quantile(data_disease.Albumin_and_Globulin_Ratio, .75))\n",
    "print(\"IQR межквартильный размах: \", float(np.quantile(data_disease.Albumin_and_Globulin_Ratio, .75)) - float(np.quantile(data_disease.Albumin_and_Globulin_Ratio, .25))) "
   ]
  },
  {
   "cell_type": "markdown",
   "metadata": {
    "colab_type": "text",
    "id": "7kwq4rqzOoz1"
   },
   "source": [
    "**3. Построить график histogram двух выборок по наличию или отсутствию болезни: люди, возрастом до 50 лет, и люди после 50 лет. Посчитать среднее значение и квартиль 0.5 в данных выборках. Чем они отличаются?**"
   ]
  },
  {
   "cell_type": "markdown",
   "metadata": {},
   "source": [
    "Dataset: пациент с болезнью печени - 1, пациент не болеет - 2"
   ]
  },
  {
   "cell_type": "code",
   "execution_count": 4,
   "metadata": {},
   "outputs": [],
   "source": [
    "#люди, возрастом до 50 лет\n",
    "data_before_50 = data_disease[ data_disease['Age']<=50 ]"
   ]
  },
  {
   "cell_type": "code",
   "execution_count": 14,
   "metadata": {},
   "outputs": [
    {
     "data": {
      "text/plain": [
       "376"
      ]
     },
     "execution_count": 14,
     "metadata": {},
     "output_type": "execute_result"
    }
   ],
   "source": [
    "len(data_before_50)"
   ]
  },
  {
   "cell_type": "code",
   "execution_count": 5,
   "metadata": {},
   "outputs": [
    {
     "data": {
      "image/png": "[encoded data removed]",
      "text/plain": [
       "<Figure size 432x288 with 1 Axes>"
      ]
     },
     "metadata": {
      "needs_background": "light"
     },
     "output_type": "display_data"
    }
   ],
   "source": [
    "#гистограммы распределения Dataset\n",
    "sns_plot1 = sns.distplot(data_before_50['Dataset'])\n",
    "fig1 = sns_plot1.get_figure()"
   ]
  },
  {
   "cell_type": "code",
   "execution_count": 11,
   "metadata": {},
   "outputs": [
    {
     "name": "stdout",
     "output_type": "stream",
     "text": [
      "люди, возрастом до 50 лет\n",
      "сред. значение:  1.3138297872340425\n",
      "Q2 медиана:  1.0\n"
     ]
    }
   ],
   "source": [
    "print(\"люди, возрастом до 50 лет (наличие или отсутствие болезни)\")\n",
    "print(\"сред. значение: \", data_before_50['Dataset'].mean())\n",
    "print(\"Q2 медиана: \", np.quantile(data_before_50.Dataset, .50))"
   ]
  },
  {
   "cell_type": "code",
   "execution_count": 8,
   "metadata": {},
   "outputs": [],
   "source": [
    "#люди, возрастом после 50 лет\n",
    "data_after_50 = data_disease[ data_disease['Age']>50 ]"
   ]
  },
  {
   "cell_type": "code",
   "execution_count": 15,
   "metadata": {},
   "outputs": [
    {
     "data": {
      "text/plain": [
       "207"
      ]
     },
     "execution_count": 15,
     "metadata": {},
     "output_type": "execute_result"
    }
   ],
   "source": [
    "len(data_after_50)"
   ]
  },
  {
   "cell_type": "code",
   "execution_count": 9,
   "metadata": {},
   "outputs": [
    {
     "data": {
      "image/png": "[encoded data removed]",
      "text/plain": [
       "<Figure size 432x288 with 1 Axes>"
      ]
     },
     "metadata": {
      "needs_background": "light"
     },
     "output_type": "display_data"
    }
   ],
   "source": [
    "#гистограммы распределения Dataset\n",
    "sns_plot2 = sns.distplot(data_after_50['Dataset'])\n",
    "fig2 = sns_plot2.get_figure()"
   ]
  },
  {
   "cell_type": "code",
   "execution_count": 12,
   "metadata": {},
   "outputs": [
    {
     "name": "stdout",
     "output_type": "stream",
     "text": [
      "люди, возрастом после 50 лет (наличие или отсутствие болезни)\n",
      "сред. значение:  1.2367149758454106\n",
      "Q2 медиана:  1.0\n"
     ]
    }
   ],
   "source": [
    "print(\"люди, возрастом после 50 лет (наличие или отсутствие болезни)\")\n",
    "print(\"сред. значение: \", data_after_50['Dataset'].mean())\n",
    "print(\"Q2 медиана: \", np.quantile(data_after_50.Dataset, .50))"
   ]
  },
  {
   "cell_type": "markdown",
   "metadata": {},
   "source": [
    "в возрасте до 50 и после 50 примерно одинаково болееют"
   ]
  },
  {
   "cell_type": "markdown",
   "metadata": {
    "colab_type": "text",
    "id": "QZVd-KyDQq38"
   },
   "source": [
    "**4. Посчитать одновыборочный t-критерий для выборки по Total_Bilirubin у больных людей. Как показатель помогает понять, что выборка не похожа на генеральную совокупность?**"
   ]
  },
  {
   "cell_type": "markdown",
   "metadata": {},
   "source": [
    "T-test используют для определения, насколько среднее исследуемой выборки статистически отличается от среднего значения генеральной совокупности.\n",
    "\n",
    "* Нулевая гипотеза - среднее значение выборки равно среднему значению генеральной совокупности. (выборка похожа на ген.совокупность)\n",
    "* Альтернативная гипотеза - среднее значение выборки отличается от среднего значения генеральной совокупности. (выборка отличается от ген.совокупности)"
   ]
  },
  {
   "cell_type": "code",
   "execution_count": 22,
   "metadata": {},
   "outputs": [],
   "source": [
    "#ген.совокупность\n",
    "data_all = data_disease['Total_Bilirubin']"
   ]
  },
  {
   "cell_type": "code",
   "execution_count": 17,
   "metadata": {},
   "outputs": [],
   "source": [
    "#выборка людей с заболеванием\n",
    "data_yes = data_disease[ data_disease['Dataset']==1 ]['Total_Bilirubin']"
   ]
  },
  {
   "cell_type": "code",
   "execution_count": 18,
   "metadata": {},
   "outputs": [
    {
     "data": {
      "text/plain": [
       "416"
      ]
     },
     "execution_count": 18,
     "metadata": {},
     "output_type": "execute_result"
    }
   ],
   "source": [
    "#кол-во в выборке\n",
    "len(data_yes)"
   ]
  },
  {
   "cell_type": "code",
   "execution_count": 23,
   "metadata": {},
   "outputs": [
    {
     "data": {
      "text/plain": [
       "Ttest_1sampResult(statistic=2.471063305746647, pvalue=0.013871861207640042)"
      ]
     },
     "execution_count": 23,
     "metadata": {},
     "output_type": "execute_result"
    }
   ],
   "source": [
    "#t-test Стьдента одновыборочный\n",
    "stats.ttest_1samp(data_yes, data_all.mean())"
   ]
  },
  {
   "cell_type": "markdown",
   "metadata": {},
   "source": [
    "alpha = 0.05, N=415\n",
    "\n",
    "t-value=2.471063305746647, сравниваем с табличным значением 2.00 (или число от 1.97 до 2, так как нет 415 в таблице)\n",
    "\n",
    "Так как значение t-value превышает 2.00, то отвергаем нулевую гипотезу и принимаем альтернативную\n",
    "\n",
    "или"
   ]
  },
  {
   "cell_type": "markdown",
   "metadata": {},
   "source": [
    "вероятность того, что получили такие или еще больше выраженные различия абсолютно случайно равна pvalue=0.013871861207640042\n",
    "\n",
    "так как pvalue < 0.05, то отвергаем нулевую гипотезу и принимаем альтернативную - Total_Bilirubin у больных людей отличается."
   ]
  },
  {
   "cell_type": "code",
   "execution_count": 38,
   "metadata": {},
   "outputs": [
    {
     "data": {
      "text/plain": [
       "True"
      ]
     },
     "execution_count": 38,
     "metadata": {},
     "output_type": "execute_result"
    }
   ],
   "source": [
    "0.013871861207640042<0.05"
   ]
  },
  {
   "cell_type": "code",
   "execution_count": 42,
   "metadata": {},
   "outputs": [
    {
     "data": {
      "image/png": "[encoded data removed]",
      "text/plain": [
       "<Figure size 432x288 with 1 Axes>"
      ]
     },
     "metadata": {
      "needs_background": "light"
     },
     "output_type": "display_data"
    }
   ],
   "source": [
    "sns.distplot(data_yes,100)\n",
    "sns.distplot(data_all,100)\n",
    "\n",
    "plt.title('Плотность вероятности распределения Total_Bilirubin')\n",
    "plt.legend(['больные люди', 'все'])\n",
    "plt.show()"
   ]
  },
  {
   "cell_type": "markdown",
   "metadata": {},
   "source": [
    "при построении графика вероятности выборки и генеральной совокупности, визуально различий не наблюдается, а тест показал, что есть различия"
   ]
  },
  {
   "cell_type": "code",
   "execution_count": 30,
   "metadata": {},
   "outputs": [
    {
     "data": {
      "text/plain": [
       "<matplotlib.axes._subplots.AxesSubplot at 0xc19ca08>"
      ]
     },
     "execution_count": 30,
     "metadata": {},
     "output_type": "execute_result"
    },
    {
     "data": {
      "image/png": "[encoded data removed]",
      "text/plain": [
       "<Figure size 432x288 with 1 Axes>"
      ]
     },
     "metadata": {
      "needs_background": "light"
     },
     "output_type": "display_data"
    }
   ],
   "source": [
    "data_yes.hist()"
   ]
  },
  {
   "cell_type": "code",
   "execution_count": 34,
   "metadata": {},
   "outputs": [
    {
     "data": {
      "image/png": "[encoded data removed]",
      "text/plain": [
       "<Figure size 432x288 with 1 Axes>"
      ]
     },
     "metadata": {
      "needs_background": "light"
     },
     "output_type": "display_data"
    }
   ],
   "source": [
    "#гистограммы распределения выборки\n",
    "sns_plot_yes = sns.distplot(data_yes)\n",
    "fig_yes = sns_plot_yes.get_figure()"
   ]
  },
  {
   "cell_type": "code",
   "execution_count": 31,
   "metadata": {},
   "outputs": [
    {
     "data": {
      "text/plain": [
       "<matplotlib.axes._subplots.AxesSubplot at 0xc21c808>"
      ]
     },
     "execution_count": 31,
     "metadata": {},
     "output_type": "execute_result"
    },
    {
     "data": {
      "image/png": "[encoded data removed]",
      "text/plain": [
       "<Figure size 432x288 with 1 Axes>"
      ]
     },
     "metadata": {
      "needs_background": "light"
     },
     "output_type": "display_data"
    }
   ],
   "source": [
    "data_all.hist()"
   ]
  },
  {
   "cell_type": "code",
   "execution_count": 35,
   "metadata": {},
   "outputs": [
    {
     "data": {
      "image/png": "[encoded data removed]",
      "text/plain": [
       "<Figure size 432x288 with 1 Axes>"
      ]
     },
     "metadata": {
      "needs_background": "light"
     },
     "output_type": "display_data"
    }
   ],
   "source": [
    "#гистограммы распределения ген.совокупности\n",
    "sns_plot_all = sns.distplot(data_all)\n",
    "fig_all = sns_plot_all.get_figure()"
   ]
  },
  {
   "cell_type": "markdown",
   "metadata": {
    "colab_type": "text",
    "id": "dI901FRqRC8A"
   },
   "source": [
    "**5. Посчитать критерий t для двух выборок: больные и здоровые (по Total_Bilirubin). Имеют ли данные группы схожесть?**"
   ]
  },
  {
   "cell_type": "markdown",
   "metadata": {},
   "source": [
    "Двухвыборочный t-критерий для независимых выборок\n",
    "t-значение - это вероятность того, что различия между выборками также означают разные значения в выборках. Чем выше t, тем более различны группы между собой. Чем меньше t, тем более похожи группы и результаты повторятся."
   ]
  },
  {
   "cell_type": "code",
   "execution_count": 54,
   "metadata": {},
   "outputs": [],
   "source": [
    "#выборка людей с заболеванием\n",
    "data_yes = data_disease[ data_disease['Dataset']==1 ]['Total_Bilirubin']"
   ]
  },
  {
   "cell_type": "code",
   "execution_count": 55,
   "metadata": {},
   "outputs": [],
   "source": [
    "#выборка здоровых людей\n",
    "data_no = data_disease[ data_disease['Dataset']==2 ]['Total_Bilirubin']"
   ]
  },
  {
   "cell_type": "code",
   "execution_count": 52,
   "metadata": {},
   "outputs": [
    {
     "data": {
      "text/plain": [
       "Ttest_indResult(statistic=5.441441126834863, pvalue=7.801430929364345e-08)"
      ]
     },
     "execution_count": 52,
     "metadata": {},
     "output_type": "execute_result"
    }
   ],
   "source": [
    "#t-test Стьдента Двухвыборочный для независимых выборок\n",
    "stats.ttest_ind(data_yes, data_no)"
   ]
  },
  {
   "cell_type": "markdown",
   "metadata": {},
   "source": [
    "p-value равно 7.80, что намного больше стандартной альфа ошибки 0.05, поэтому мы принимаем нулевую гипотезу и можем сказать, что не имеется статистически значимого различия в показаниях 'Total_Bilirubin' у здоровых и больных людей, то есть данные группы схожи."
   ]
  },
  {
   "cell_type": "code",
   "execution_count": 56,
   "metadata": {},
   "outputs": [
    {
     "data": {
      "image/png": "[encoded data removed]",
      "text/plain": [
       "<Figure size 432x288 with 1 Axes>"
      ]
     },
     "metadata": {
      "needs_background": "light"
     },
     "output_type": "display_data"
    }
   ],
   "source": [
    "sns.distplot(data_yes,50)\n",
    "sns.distplot(data_no,50)\n",
    "\n",
    "plt.title('Плотность вероятности распределения Total_Bilirubin')\n",
    "plt.legend(['больные люди', 'здоровые люди'])\n",
    "plt.show()"
   ]
  },
  {
   "cell_type": "markdown",
   "metadata": {
    "colab_type": "text",
    "id": "2e0YHsEqAnvv"
   },
   "source": [
    "**6. Посчитать статистическую значимость для трех выборок (по возрасту) - 1ая группа от 1 до 30 лет, 2ая группа от 30 лет до 55, 3я группа более 55 по выборке Dataset. Сравнить с реальностью (они логично что будут отличаться).**"
   ]
  },
  {
   "cell_type": "code",
   "execution_count": 60,
   "metadata": {},
   "outputs": [],
   "source": [
    "#люди, возрастом от 1 до 30 лет\n",
    "data_1 = data_disease[ data_disease['Age']<=30 ]['Dataset']\n",
    "#люди, возрастом от 30 до 55 лет\n",
    "data_2 = data_disease[ (data_disease['Age']>30) & (data_disease['Age']<=55)]['Dataset']\n",
    "#люди, возрастом после 55 лет\n",
    "data_3 = data_disease[ data_disease['Age']>55 ]['Dataset']"
   ]
  },
  {
   "cell_type": "code",
   "execution_count": 61,
   "metadata": {},
   "outputs": [
    {
     "data": {
      "text/plain": [
       "F_onewayResult(statistic=8.942833990557906, pvalue=0.0001495741914244918)"
      ]
     },
     "execution_count": 61,
     "metadata": {},
     "output_type": "execute_result"
    }
   ],
   "source": [
    "#Множественный тест (ANOVA)\n",
    "stats.f_oneway(data_1, data_2, data_3)"
   ]
  },
  {
   "cell_type": "markdown",
   "metadata": {},
   "source": [
    "Так как результат p-value меньше 0.05, то мы отвергаем нулевую гипотезу и принимаем альтернативную\n",
    "\n",
    "то есть, у разных возрастных групп имеются различия по наличию заболевания."
   ]
  }
 ],
 "metadata": {
  "colab": {
   "collapsed_sections": [],
   "name": "dz_3.ipynb",
   "provenance": [],
   "toc_visible": true,
   "version": "0.3.2"
  },
  "kernelspec": {
   "display_name": "Python 3",
   "language": "python",
   "name": "python3"
  },
  "language_info": {
   "codemirror_mode": {
    "name": "ipython",
    "version": 3
   },
   "file_extension": ".py",
   "mimetype": "text/x-python",
   "name": "python",
   "nbconvert_exporter": "python",
   "pygments_lexer": "ipython3",
   "version": "3.7.4"
  }
 },
 "nbformat": 4,
 "nbformat_minor": 1
}
